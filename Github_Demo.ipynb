{
  "nbformat": 4,
  "nbformat_minor": 0,
  "metadata": {
    "colab": {
      "name": "Github Demo.ipynb",
      "provenance": [],
      "authorship_tag": "ABX9TyMULsF2brbSkzjn6Q1BguUc",
      "include_colab_link": true
    },
    "kernelspec": {
      "name": "python3",
      "display_name": "Python 3"
    },
    "language_info": {
      "name": "python"
    }
  },
  "cells": [
    {
      "cell_type": "markdown",
      "metadata": {
        "id": "view-in-github",
        "colab_type": "text"
      },
      "source": [
        "<a href=\"https://colab.research.google.com/github/Dinjamil/Dinjamil/blob/main/Github_Demo.ipynb\" target=\"_parent\"><img src=\"https://colab.research.google.com/assets/colab-badge.svg\" alt=\"Open In Colab\"/></a>"
      ]
    },
    {
      "cell_type": "code",
      "source": [
        "print(input('enter something'))"
      ],
      "metadata": {
        "colab": {
          "base_uri": "https://localhost:8080/"
        },
        "id": "7cp2oPKfihDn",
        "outputId": "07c6bb24-8198-49f8-d0d1-425593870d20"
      },
      "execution_count": 4,
      "outputs": [
        {
          "output_type": "stream",
          "name": "stdout",
          "text": [
            "enter something20\n",
            "20\n"
          ]
        }
      ]
    },
    {
      "cell_type": "markdown",
      "source": [
        ""
      ],
      "metadata": {
        "id": "dVOi7TQ7p8qg"
      }
    },
    {
      "cell_type": "markdown",
      "source": [
        "whats your problem\n",
        "it is nice day \n",
        "i want to go outside\n"
      ],
      "metadata": {
        "id": "s-SaqmEno_c9"
      }
    }
  ]
}